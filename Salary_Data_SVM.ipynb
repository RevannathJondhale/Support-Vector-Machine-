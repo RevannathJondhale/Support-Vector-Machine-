{
 "cells": [
  {
   "cell_type": "code",
   "execution_count": 1,
   "id": "934d6289",
   "metadata": {},
   "outputs": [],
   "source": [
    "##Revannath Jondhale ## SVM for salary data"
   ]
  },
  {
   "cell_type": "code",
   "execution_count": 2,
   "id": "3054193d",
   "metadata": {},
   "outputs": [],
   "source": [
    "import pandas as pd"
   ]
  },
  {
   "cell_type": "code",
   "execution_count": 3,
   "id": "691f13f2",
   "metadata": {},
   "outputs": [],
   "source": [
    "import numpy as np"
   ]
  },
  {
   "cell_type": "code",
   "execution_count": 4,
   "id": "325d4449",
   "metadata": {},
   "outputs": [],
   "source": [
    "import seaborn as sb"
   ]
  },
  {
   "cell_type": "code",
   "execution_count": 5,
   "id": "c4e78371",
   "metadata": {},
   "outputs": [],
   "source": [
    "import matplotlib.pyplot as plt"
   ]
  },
  {
   "cell_type": "code",
   "execution_count": 6,
   "id": "ee12e360",
   "metadata": {},
   "outputs": [],
   "source": [
    "## importing the data\n",
    "## we no need to do the train and test data because its already provided so we are going to the next step"
   ]
  },
  {
   "cell_type": "code",
   "execution_count": 7,
   "id": "902cfd6e",
   "metadata": {},
   "outputs": [],
   "source": [
    "salary_train = pd.read_csv(\"SalaryData_Train(1).csv\")"
   ]
  },
  {
   "cell_type": "code",
   "execution_count": 8,
   "id": "04a5b80a",
   "metadata": {},
   "outputs": [],
   "source": [
    "alary_test = pd.read_csv(\"SalaryData_Test(1).csv\")"
   ]
  },
  {
   "cell_type": "code",
   "execution_count": 9,
   "id": "8fefd9b4",
   "metadata": {},
   "outputs": [],
   "source": [
    "## See the data"
   ]
  },
  {
   "cell_type": "code",
   "execution_count": 10,
   "id": "d32b4a02",
   "metadata": {},
   "outputs": [
    {
     "data": {
      "text/html": [
       "<div>\n",
       "<style scoped>\n",
       "    .dataframe tbody tr th:only-of-type {\n",
       "        vertical-align: middle;\n",
       "    }\n",
       "\n",
       "    .dataframe tbody tr th {\n",
       "        vertical-align: top;\n",
       "    }\n",
       "\n",
       "    .dataframe thead th {\n",
       "        text-align: right;\n",
       "    }\n",
       "</style>\n",
       "<table border=\"1\" class=\"dataframe\">\n",
       "  <thead>\n",
       "    <tr style=\"text-align: right;\">\n",
       "      <th></th>\n",
       "      <th>age</th>\n",
       "      <th>educationno</th>\n",
       "      <th>capitalgain</th>\n",
       "      <th>capitalloss</th>\n",
       "      <th>hoursperweek</th>\n",
       "    </tr>\n",
       "  </thead>\n",
       "  <tbody>\n",
       "    <tr>\n",
       "      <th>count</th>\n",
       "      <td>30161.000000</td>\n",
       "      <td>30161.000000</td>\n",
       "      <td>30161.000000</td>\n",
       "      <td>30161.000000</td>\n",
       "      <td>30161.000000</td>\n",
       "    </tr>\n",
       "    <tr>\n",
       "      <th>mean</th>\n",
       "      <td>38.438115</td>\n",
       "      <td>10.121316</td>\n",
       "      <td>1092.044064</td>\n",
       "      <td>88.302311</td>\n",
       "      <td>40.931269</td>\n",
       "    </tr>\n",
       "    <tr>\n",
       "      <th>std</th>\n",
       "      <td>13.134830</td>\n",
       "      <td>2.550037</td>\n",
       "      <td>7406.466611</td>\n",
       "      <td>404.121321</td>\n",
       "      <td>11.980182</td>\n",
       "    </tr>\n",
       "    <tr>\n",
       "      <th>min</th>\n",
       "      <td>17.000000</td>\n",
       "      <td>1.000000</td>\n",
       "      <td>0.000000</td>\n",
       "      <td>0.000000</td>\n",
       "      <td>1.000000</td>\n",
       "    </tr>\n",
       "    <tr>\n",
       "      <th>25%</th>\n",
       "      <td>28.000000</td>\n",
       "      <td>9.000000</td>\n",
       "      <td>0.000000</td>\n",
       "      <td>0.000000</td>\n",
       "      <td>40.000000</td>\n",
       "    </tr>\n",
       "    <tr>\n",
       "      <th>50%</th>\n",
       "      <td>37.000000</td>\n",
       "      <td>10.000000</td>\n",
       "      <td>0.000000</td>\n",
       "      <td>0.000000</td>\n",
       "      <td>40.000000</td>\n",
       "    </tr>\n",
       "    <tr>\n",
       "      <th>75%</th>\n",
       "      <td>47.000000</td>\n",
       "      <td>13.000000</td>\n",
       "      <td>0.000000</td>\n",
       "      <td>0.000000</td>\n",
       "      <td>45.000000</td>\n",
       "    </tr>\n",
       "    <tr>\n",
       "      <th>max</th>\n",
       "      <td>90.000000</td>\n",
       "      <td>16.000000</td>\n",
       "      <td>99999.000000</td>\n",
       "      <td>4356.000000</td>\n",
       "      <td>99.000000</td>\n",
       "    </tr>\n",
       "  </tbody>\n",
       "</table>\n",
       "</div>"
      ],
      "text/plain": [
       "                age   educationno   capitalgain   capitalloss  hoursperweek\n",
       "count  30161.000000  30161.000000  30161.000000  30161.000000  30161.000000\n",
       "mean      38.438115     10.121316   1092.044064     88.302311     40.931269\n",
       "std       13.134830      2.550037   7406.466611    404.121321     11.980182\n",
       "min       17.000000      1.000000      0.000000      0.000000      1.000000\n",
       "25%       28.000000      9.000000      0.000000      0.000000     40.000000\n",
       "50%       37.000000     10.000000      0.000000      0.000000     40.000000\n",
       "75%       47.000000     13.000000      0.000000      0.000000     45.000000\n",
       "max       90.000000     16.000000  99999.000000   4356.000000     99.000000"
      ]
     },
     "execution_count": 10,
     "metadata": {},
     "output_type": "execute_result"
    }
   ],
   "source": [
    "salary_train.describe()"
   ]
  },
  {
   "cell_type": "code",
   "execution_count": 11,
   "id": "1d37bd4e",
   "metadata": {},
   "outputs": [
    {
     "name": "stdout",
     "output_type": "stream",
     "text": [
      "<class 'pandas.core.frame.DataFrame'>\n",
      "RangeIndex: 30161 entries, 0 to 30160\n",
      "Data columns (total 14 columns):\n",
      " #   Column         Non-Null Count  Dtype \n",
      "---  ------         --------------  ----- \n",
      " 0   age            30161 non-null  int64 \n",
      " 1   workclass      30161 non-null  object\n",
      " 2   education      30161 non-null  object\n",
      " 3   educationno    30161 non-null  int64 \n",
      " 4   maritalstatus  30161 non-null  object\n",
      " 5   occupation     30161 non-null  object\n",
      " 6   relationship   30161 non-null  object\n",
      " 7   race           30161 non-null  object\n",
      " 8   sex            30161 non-null  object\n",
      " 9   capitalgain    30161 non-null  int64 \n",
      " 10  capitalloss    30161 non-null  int64 \n",
      " 11  hoursperweek   30161 non-null  int64 \n",
      " 12  native         30161 non-null  object\n",
      " 13  Salary         30161 non-null  object\n",
      "dtypes: int64(5), object(9)\n",
      "memory usage: 3.2+ MB\n"
     ]
    }
   ],
   "source": [
    "salary_train.info()"
   ]
  },
  {
   "cell_type": "code",
   "execution_count": 12,
   "id": "a30c6f43",
   "metadata": {},
   "outputs": [
    {
     "data": {
      "text/plain": [
       "(30161, 14)"
      ]
     },
     "execution_count": 12,
     "metadata": {},
     "output_type": "execute_result"
    }
   ],
   "source": [
    "salary_train.shape"
   ]
  },
  {
   "cell_type": "code",
   "execution_count": 13,
   "id": "dce96ed5",
   "metadata": {},
   "outputs": [],
   "source": [
    "#columns"
   ]
  },
  {
   "cell_type": "code",
   "execution_count": 14,
   "id": "9a21757b",
   "metadata": {},
   "outputs": [
    {
     "data": {
      "text/plain": [
       "Index(['age', 'workclass', 'education', 'educationno', 'maritalstatus',\n",
       "       'occupation', 'relationship', 'race', 'sex', 'capitalgain',\n",
       "       'capitalloss', 'hoursperweek', 'native', 'Salary'],\n",
       "      dtype='object')"
      ]
     },
     "execution_count": 14,
     "metadata": {},
     "output_type": "execute_result"
    }
   ],
   "source": [
    "salary_train.columns"
   ]
  },
  {
   "cell_type": "code",
   "execution_count": 15,
   "id": "79eba5c7",
   "metadata": {},
   "outputs": [],
   "source": [
    "##copying the data so we can edit it without interfering with the original dataframe"
   ]
  },
  {
   "cell_type": "code",
   "execution_count": 16,
   "id": "848c1ecc",
   "metadata": {},
   "outputs": [],
   "source": [
    "#salary_train_needed = salary_train.copy()"
   ]
  },
  {
   "cell_type": "code",
   "execution_count": 17,
   "id": "05c30d98",
   "metadata": {},
   "outputs": [],
   "source": [
    "##Remove unneccesory column"
   ]
  },
  {
   "cell_type": "code",
   "execution_count": 18,
   "id": "509c1b8e",
   "metadata": {},
   "outputs": [],
   "source": [
    "salary_train_needed = salary_train.drop([\"educationno\",\"maritalstatus\",\"relationship\",\"race\",\"sex\",\"native\"],axis = 1)"
   ]
  },
  {
   "cell_type": "code",
   "execution_count": 19,
   "id": "a925844b",
   "metadata": {},
   "outputs": [
    {
     "data": {
      "text/html": [
       "<div>\n",
       "<style scoped>\n",
       "    .dataframe tbody tr th:only-of-type {\n",
       "        vertical-align: middle;\n",
       "    }\n",
       "\n",
       "    .dataframe tbody tr th {\n",
       "        vertical-align: top;\n",
       "    }\n",
       "\n",
       "    .dataframe thead th {\n",
       "        text-align: right;\n",
       "    }\n",
       "</style>\n",
       "<table border=\"1\" class=\"dataframe\">\n",
       "  <thead>\n",
       "    <tr style=\"text-align: right;\">\n",
       "      <th></th>\n",
       "      <th>age</th>\n",
       "      <th>workclass</th>\n",
       "      <th>education</th>\n",
       "      <th>occupation</th>\n",
       "      <th>capitalgain</th>\n",
       "      <th>capitalloss</th>\n",
       "      <th>hoursperweek</th>\n",
       "      <th>Salary</th>\n",
       "    </tr>\n",
       "  </thead>\n",
       "  <tbody>\n",
       "    <tr>\n",
       "      <th>0</th>\n",
       "      <td>39</td>\n",
       "      <td>State-gov</td>\n",
       "      <td>Bachelors</td>\n",
       "      <td>Adm-clerical</td>\n",
       "      <td>2174</td>\n",
       "      <td>0</td>\n",
       "      <td>40</td>\n",
       "      <td>&lt;=50K</td>\n",
       "    </tr>\n",
       "    <tr>\n",
       "      <th>1</th>\n",
       "      <td>50</td>\n",
       "      <td>Self-emp-not-inc</td>\n",
       "      <td>Bachelors</td>\n",
       "      <td>Exec-managerial</td>\n",
       "      <td>0</td>\n",
       "      <td>0</td>\n",
       "      <td>13</td>\n",
       "      <td>&lt;=50K</td>\n",
       "    </tr>\n",
       "    <tr>\n",
       "      <th>2</th>\n",
       "      <td>38</td>\n",
       "      <td>Private</td>\n",
       "      <td>HS-grad</td>\n",
       "      <td>Handlers-cleaners</td>\n",
       "      <td>0</td>\n",
       "      <td>0</td>\n",
       "      <td>40</td>\n",
       "      <td>&lt;=50K</td>\n",
       "    </tr>\n",
       "    <tr>\n",
       "      <th>3</th>\n",
       "      <td>53</td>\n",
       "      <td>Private</td>\n",
       "      <td>11th</td>\n",
       "      <td>Handlers-cleaners</td>\n",
       "      <td>0</td>\n",
       "      <td>0</td>\n",
       "      <td>40</td>\n",
       "      <td>&lt;=50K</td>\n",
       "    </tr>\n",
       "    <tr>\n",
       "      <th>4</th>\n",
       "      <td>28</td>\n",
       "      <td>Private</td>\n",
       "      <td>Bachelors</td>\n",
       "      <td>Prof-specialty</td>\n",
       "      <td>0</td>\n",
       "      <td>0</td>\n",
       "      <td>40</td>\n",
       "      <td>&lt;=50K</td>\n",
       "    </tr>\n",
       "    <tr>\n",
       "      <th>...</th>\n",
       "      <td>...</td>\n",
       "      <td>...</td>\n",
       "      <td>...</td>\n",
       "      <td>...</td>\n",
       "      <td>...</td>\n",
       "      <td>...</td>\n",
       "      <td>...</td>\n",
       "      <td>...</td>\n",
       "    </tr>\n",
       "    <tr>\n",
       "      <th>30156</th>\n",
       "      <td>27</td>\n",
       "      <td>Private</td>\n",
       "      <td>Assoc-acdm</td>\n",
       "      <td>Tech-support</td>\n",
       "      <td>0</td>\n",
       "      <td>0</td>\n",
       "      <td>38</td>\n",
       "      <td>&lt;=50K</td>\n",
       "    </tr>\n",
       "    <tr>\n",
       "      <th>30157</th>\n",
       "      <td>40</td>\n",
       "      <td>Private</td>\n",
       "      <td>HS-grad</td>\n",
       "      <td>Machine-op-inspct</td>\n",
       "      <td>0</td>\n",
       "      <td>0</td>\n",
       "      <td>40</td>\n",
       "      <td>&gt;50K</td>\n",
       "    </tr>\n",
       "    <tr>\n",
       "      <th>30158</th>\n",
       "      <td>58</td>\n",
       "      <td>Private</td>\n",
       "      <td>HS-grad</td>\n",
       "      <td>Adm-clerical</td>\n",
       "      <td>0</td>\n",
       "      <td>0</td>\n",
       "      <td>40</td>\n",
       "      <td>&lt;=50K</td>\n",
       "    </tr>\n",
       "    <tr>\n",
       "      <th>30159</th>\n",
       "      <td>22</td>\n",
       "      <td>Private</td>\n",
       "      <td>HS-grad</td>\n",
       "      <td>Adm-clerical</td>\n",
       "      <td>0</td>\n",
       "      <td>0</td>\n",
       "      <td>20</td>\n",
       "      <td>&lt;=50K</td>\n",
       "    </tr>\n",
       "    <tr>\n",
       "      <th>30160</th>\n",
       "      <td>52</td>\n",
       "      <td>Self-emp-inc</td>\n",
       "      <td>HS-grad</td>\n",
       "      <td>Exec-managerial</td>\n",
       "      <td>15024</td>\n",
       "      <td>0</td>\n",
       "      <td>40</td>\n",
       "      <td>&gt;50K</td>\n",
       "    </tr>\n",
       "  </tbody>\n",
       "</table>\n",
       "<p>30161 rows × 8 columns</p>\n",
       "</div>"
      ],
      "text/plain": [
       "       age          workclass    education          occupation  capitalgain  \\\n",
       "0       39          State-gov    Bachelors        Adm-clerical         2174   \n",
       "1       50   Self-emp-not-inc    Bachelors     Exec-managerial            0   \n",
       "2       38            Private      HS-grad   Handlers-cleaners            0   \n",
       "3       53            Private         11th   Handlers-cleaners            0   \n",
       "4       28            Private    Bachelors      Prof-specialty            0   \n",
       "...    ...                ...          ...                 ...          ...   \n",
       "30156   27            Private   Assoc-acdm        Tech-support            0   \n",
       "30157   40            Private      HS-grad   Machine-op-inspct            0   \n",
       "30158   58            Private      HS-grad        Adm-clerical            0   \n",
       "30159   22            Private      HS-grad        Adm-clerical            0   \n",
       "30160   52       Self-emp-inc      HS-grad     Exec-managerial        15024   \n",
       "\n",
       "       capitalloss  hoursperweek  Salary  \n",
       "0                0            40   <=50K  \n",
       "1                0            13   <=50K  \n",
       "2                0            40   <=50K  \n",
       "3                0            40   <=50K  \n",
       "4                0            40   <=50K  \n",
       "...            ...           ...     ...  \n",
       "30156            0            38   <=50K  \n",
       "30157            0            40    >50K  \n",
       "30158            0            40   <=50K  \n",
       "30159            0            20   <=50K  \n",
       "30160            0            40    >50K  \n",
       "\n",
       "[30161 rows x 8 columns]"
      ]
     },
     "execution_count": 19,
     "metadata": {},
     "output_type": "execute_result"
    }
   ],
   "source": [
    "salary_train_needed"
   ]
  },
  {
   "cell_type": "code",
   "execution_count": 20,
   "id": "1f3ecbae",
   "metadata": {},
   "outputs": [
    {
     "data": {
      "text/plain": [
       "Index(['age', 'workclass', 'education', 'occupation', 'capitalgain',\n",
       "       'capitalloss', 'hoursperweek', 'Salary'],\n",
       "      dtype='object')"
      ]
     },
     "execution_count": 20,
     "metadata": {},
     "output_type": "execute_result"
    }
   ],
   "source": [
    "salary_train_needed.columns"
   ]
  },
  {
   "cell_type": "code",
   "execution_count": 21,
   "id": "32e71a86",
   "metadata": {},
   "outputs": [],
   "source": [
    "# now see if there are any outlier behaviour present in the numerical data "
   ]
  },
  {
   "cell_type": "code",
   "execution_count": 22,
   "id": "0e380048",
   "metadata": {},
   "outputs": [
    {
     "data": {
      "text/plain": [
       "<AxesSubplot:>"
      ]
     },
     "execution_count": 22,
     "metadata": {},
     "output_type": "execute_result"
    },
    {
     "data": {
      "image/png": "[encoded data removed]",
      "text/plain": [
       "<Figure size 432x288 with 1 Axes>"
      ]
     },
     "metadata": {
      "needs_background": "light"
     },
     "output_type": "display_data"
    }
   ],
   "source": [
    "sb.boxplot(data = salary_train_needed)"
   ]
  },
  {
   "cell_type": "code",
   "execution_count": 23,
   "id": "a5068911",
   "metadata": {},
   "outputs": [],
   "source": [
    "# now view them seperately  get more cleat view"
   ]
  },
  {
   "cell_type": "code",
   "execution_count": 24,
   "id": "a1996dd5",
   "metadata": {},
   "outputs": [
    {
     "data": {
      "text/plain": [
       "<AxesSubplot:>"
      ]
     },
     "execution_count": 24,
     "metadata": {},
     "output_type": "execute_result"
    },
    {
     "data": {
      "image/png": "[encoded data removed]",
      "text/plain": [
       "<Figure size 432x288 with 1 Axes>"
      ]
     },
     "metadata": {
      "needs_background": "light"
     },
     "output_type": "display_data"
    }
   ],
   "source": [
    "sb.boxplot(data = salary_train_needed.age)"
   ]
  },
  {
   "cell_type": "code",
   "execution_count": 25,
   "id": "0a9aa7bc",
   "metadata": {},
   "outputs": [],
   "source": [
    "##few outliers can be seen in the graph so we will try to detect them using the funtion below"
   ]
  },
  {
   "cell_type": "code",
   "execution_count": 26,
   "id": "327bc158",
   "metadata": {},
   "outputs": [],
   "source": [
    "outliers=[]"
   ]
  },
  {
   "cell_type": "code",
   "execution_count": 28,
   "id": "fb04a572",
   "metadata": {},
   "outputs": [],
   "source": [
    "def detect_outlier(data_1):\n",
    "    outliers.clear()\n",
    "    threshold=3\n",
    "    mean_1 = np.mean(data_1)\n",
    "    std_1 =np.std(data_1)\n",
    "    \n",
    "    for y in data_1:\n",
    "        z_score= (y - mean_1)/std_1 \n",
    "        if np.abs(z_score) > threshold:\n",
    "            outliers.append(y)\n",
    "    return outliers"
   ]
  },
  {
   "cell_type": "code",
   "execution_count": 29,
   "id": "639c1b04",
   "metadata": {},
   "outputs": [],
   "source": [
    "outliers = detect_outlier(salary_train_needed.age)"
   ]
  },
  {
   "cell_type": "code",
   "execution_count": 30,
   "id": "2edca844",
   "metadata": {},
   "outputs": [
    {
     "name": "stdout",
     "output_type": "stream",
     "text": [
      "[79, 90, 81, 78, 90, 88, 90, 90, 78, 80, 90, 81, 81, 80, 90, 79, 81, 90, 90, 80, 90, 90, 79, 78, 79, 84, 90, 80, 90, 81, 83, 84, 79, 85, 82, 79, 90, 90, 84, 78, 78, 80, 90, 90, 84, 90, 90, 90, 78, 81, 78, 82, 81, 80, 90, 80, 84, 82, 78, 79, 90, 84, 90, 83, 78, 80, 78, 79, 80, 79, 80, 90, 90, 90, 81, 83, 90, 90, 81, 80, 80, 90, 79, 80, 82, 85, 80, 79, 90, 79, 81, 88, 90, 82, 88, 83, 79, 86, 90, 82, 83, 81, 79, 84, 78, 78, 84, 79, 78, 90, 80, 81, 78, 81, 90, 80, 82, 90, 90, 85]\n"
     ]
    }
   ],
   "source": [
    "print(outliers) "
   ]
  },
  {
   "cell_type": "code",
   "execution_count": 31,
   "id": "a4117f71",
   "metadata": {},
   "outputs": [
    {
     "data": {
      "text/plain": [
       "120"
      ]
     },
     "execution_count": 31,
     "metadata": {},
     "output_type": "execute_result"
    }
   ],
   "source": [
    "len(outliers)"
   ]
  },
  {
   "cell_type": "code",
   "execution_count": 32,
   "id": "39d11b6b",
   "metadata": {},
   "outputs": [],
   "source": [
    "##lenth is 120"
   ]
  },
  {
   "cell_type": "code",
   "execution_count": 33,
   "id": "1c7c2b86",
   "metadata": {},
   "outputs": [],
   "source": [
    "z = np.array(outliers)"
   ]
  },
  {
   "cell_type": "code",
   "execution_count": 34,
   "id": "d8dee05c",
   "metadata": {},
   "outputs": [
    {
     "data": {
      "text/plain": [
       "array([78, 79, 80, 81, 82, 83, 84, 85, 86, 88, 90])"
      ]
     },
     "execution_count": 34,
     "metadata": {},
     "output_type": "execute_result"
    }
   ],
   "source": [
    "np.unique(outliers)"
   ]
  },
  {
   "cell_type": "code",
   "execution_count": 35,
   "id": "5ac42052",
   "metadata": {},
   "outputs": [
    {
     "data": {
      "text/plain": [
       "11"
      ]
     },
     "execution_count": 35,
     "metadata": {},
     "output_type": "execute_result"
    }
   ],
   "source": [
    "len(np.unique(outliers))"
   ]
  },
  {
   "cell_type": "code",
   "execution_count": 36,
   "id": "e2ab52cb",
   "metadata": {},
   "outputs": [],
   "source": [
    "# Outliers in the capital gain column"
   ]
  },
  {
   "cell_type": "code",
   "execution_count": 37,
   "id": "c5ffa1dc",
   "metadata": {},
   "outputs": [
    {
     "data": {
      "text/plain": [
       "<AxesSubplot:>"
      ]
     },
     "execution_count": 37,
     "metadata": {},
     "output_type": "execute_result"
    },
    {
     "data": {
      "image/png": "[encoded data removed]",
      "text/plain": [
       "<Figure size 432x288 with 1 Axes>"
      ]
     },
     "metadata": {
      "needs_background": "light"
     },
     "output_type": "display_data"
    }
   ],
   "source": [
    "sb.boxplot(data = salary_train_needed.capitalgain)"
   ]
  },
  {
   "cell_type": "code",
   "execution_count": 38,
   "id": "c6cc1253",
   "metadata": {},
   "outputs": [
    {
     "data": {
      "text/plain": [
       "<AxesSubplot:>"
      ]
     },
     "execution_count": 38,
     "metadata": {},
     "output_type": "execute_result"
    },
    {
     "data": {
      "image/png": "[encoded data removed]",
      "text/plain": [
       "<Figure size 432x288 with 1 Axes>"
      ]
     },
     "metadata": {
      "needs_background": "light"
     },
     "output_type": "display_data"
    }
   ],
   "source": [
    "sb.boxplot(data = salary_train_needed.hoursperweek)"
   ]
  },
  {
   "cell_type": "code",
   "execution_count": 39,
   "id": "a74a20ce",
   "metadata": {},
   "outputs": [],
   "source": [
    "outliers = detect_outlier(salary_train_needed.hoursperweek)"
   ]
  },
  {
   "cell_type": "code",
   "execution_count": 40,
   "id": "a10c2935",
   "metadata": {},
   "outputs": [
    {
     "name": "stdout",
     "output_type": "stream",
     "text": [
      "[80, 80, 2, 1, 98, 80, 80, 80, 99, 80, 80, 99, 80, 80, 78, 90, 80, 80, 90, 84, 99, 80, 90, 84, 3, 98, 80, 85, 84, 80, 3, 84, 99, 80, 84, 84, 78, 3, 85, 99, 80, 84, 99, 3, 77, 84, 90, 98, 80, 99, 99, 80, 80, 80, 3, 80, 85, 98, 80, 2, 4, 87, 88, 90, 80, 99, 90, 90, 80, 80, 2, 99, 89, 80, 80, 80, 97, 85, 78, 80, 90, 90, 99, 4, 84, 80, 4, 80, 99, 80, 2, 80, 80, 84, 80, 99, 84, 80, 80, 80, 80, 99, 90, 80, 94, 3, 80, 85, 80, 99, 4, 99, 80, 77, 85, 80, 85, 99, 96, 4, 99, 77, 4, 82, 2, 80, 80, 90, 3, 99, 4, 80, 80, 1, 80, 97, 2, 99, 84, 99, 85, 80, 80, 80, 99, 99, 80, 90, 3, 80, 4, 86, 80, 99, 99, 99, 80, 3, 84, 99, 3, 84, 2, 80, 84, 4, 80, 99, 91, 2, 81, 84, 96, 99, 99, 99, 80, 78, 3, 99, 80, 99, 80, 4, 84, 84, 98, 80, 3, 80, 80, 99, 99, 80, 88, 98, 99, 80, 98, 80, 80, 4, 4, 84, 99, 81, 2, 90, 84, 98, 99, 4, 84, 84, 84, 4, 99, 3, 80, 99, 99, 92, 3, 2, 99, 80, 2, 90, 99, 99, 1, 3, 80, 80, 80, 80, 99, 80, 80, 84, 77, 84, 80, 80, 80, 90, 1, 99, 99, 84, 3, 80, 80, 85, 91, 85, 80, 80, 99, 84, 99, 84, 99, 4, 99, 4, 90, 4, 1, 4, 80, 98, 99, 3, 99, 2, 80, 84, 99, 80, 80, 96, 80, 99, 90, 90, 99, 80, 90, 90, 78, 1, 80, 99, 95, 77, 85, 86, 1, 80, 80, 80, 80, 85, 84, 99, 80, 80, 80, 99, 90, 99, 84, 99, 80, 80, 99, 84, 84, 4, 99, 99, 4, 90, 90, 99, 80, 80, 98, 99, 4, 3, 96, 80, 84, 4, 99, 99, 84, 80, 78, 90, 80, 95, 80, 84, 80, 4, 80, 99, 91, 80, 84, 4, 80, 3, 80, 78, 99, 96, 2, 3, 77, 99, 2, 84, 99, 2, 90, 4, 78, 4, 84, 80, 85, 99, 99, 99, 90, 80, 99, 80, 90, 3, 80, 4, 80, 80, 90, 99, 99, 80, 3, 3, 98, 80, 80, 80, 81, 89, 3, 84]\n"
     ]
    }
   ],
   "source": [
    "print(outliers)"
   ]
  },
  {
   "cell_type": "code",
   "execution_count": 41,
   "id": "b5970abe",
   "metadata": {},
   "outputs": [
    {
     "data": {
      "text/plain": [
       "402"
      ]
     },
     "execution_count": 41,
     "metadata": {},
     "output_type": "execute_result"
    }
   ],
   "source": [
    "len(outliers)"
   ]
  },
  {
   "cell_type": "code",
   "execution_count": 42,
   "id": "0d792157",
   "metadata": {},
   "outputs": [],
   "source": [
    "z = np.array(outliers)"
   ]
  },
  {
   "cell_type": "code",
   "execution_count": 43,
   "id": "d22345d6",
   "metadata": {},
   "outputs": [
    {
     "data": {
      "text/plain": [
       "array([ 1,  2,  3,  4, 77, 78, 80, 81, 82, 84, 85, 86, 87, 88, 89, 90, 91,\n",
       "       92, 94, 95, 96, 97, 98, 99])"
      ]
     },
     "execution_count": 43,
     "metadata": {},
     "output_type": "execute_result"
    }
   ],
   "source": [
    "np.unique(outliers)"
   ]
  },
  {
   "cell_type": "code",
   "execution_count": 44,
   "id": "0427d3c2",
   "metadata": {},
   "outputs": [
    {
     "data": {
      "text/plain": [
       "24"
      ]
     },
     "execution_count": 44,
     "metadata": {},
     "output_type": "execute_result"
    }
   ],
   "source": [
    "len(np.unique(outliers))"
   ]
  },
  {
   "cell_type": "code",
   "execution_count": 45,
   "id": "14095978",
   "metadata": {},
   "outputs": [],
   "source": [
    "# we will see the count plot for these columns to get their general nature of the data"
   ]
  },
  {
   "cell_type": "code",
   "execution_count": 46,
   "id": "c3c0cc9c",
   "metadata": {},
   "outputs": [
    {
     "data": {
      "text/plain": [
       "Index(['age', 'workclass', 'education', 'occupation', 'capitalgain',\n",
       "       'capitalloss', 'hoursperweek', 'Salary'],\n",
       "      dtype='object')"
      ]
     },
     "execution_count": 46,
     "metadata": {},
     "output_type": "execute_result"
    }
   ],
   "source": [
    "salary_train_needed.columns"
   ]
  },
  {
   "cell_type": "code",
   "execution_count": 47,
   "id": "d8740831",
   "metadata": {},
   "outputs": [
    {
     "data": {
      "text/plain": [
       "(array([ 0,  1,  2,  3,  4,  5,  6,  7,  8,  9, 10, 11, 12, 13, 14, 15, 16,\n",
       "        17, 18, 19, 20, 21, 22, 23, 24, 25, 26, 27, 28, 29, 30, 31, 32, 33,\n",
       "        34, 35, 36, 37, 38, 39, 40, 41, 42, 43, 44, 45, 46, 47, 48, 49, 50,\n",
       "        51, 52, 53, 54, 55, 56, 57, 58, 59, 60, 61, 62, 63, 64, 65, 66, 67,\n",
       "        68, 69, 70, 71]),\n",
       " [Text(0, 0, '17'),\n",
       "  Text(1, 0, '18'),\n",
       "  Text(2, 0, '19'),\n",
       "  Text(3, 0, '20'),\n",
       "  Text(4, 0, '21'),\n",
       "  Text(5, 0, '22'),\n",
       "  Text(6, 0, '23'),\n",
       "  Text(7, 0, '24'),\n",
       "  Text(8, 0, '25'),\n",
       "  Text(9, 0, '26'),\n",
       "  Text(10, 0, '27'),\n",
       "  Text(11, 0, '28'),\n",
       "  Text(12, 0, '29'),\n",
       "  Text(13, 0, '30'),\n",
       "  Text(14, 0, '31'),\n",
       "  Text(15, 0, '32'),\n",
       "  Text(16, 0, '33'),\n",
       "  Text(17, 0, '34'),\n",
       "  Text(18, 0, '35'),\n",
       "  Text(19, 0, '36'),\n",
       "  Text(20, 0, '37'),\n",
       "  Text(21, 0, '38'),\n",
       "  Text(22, 0, '39'),\n",
       "  Text(23, 0, '40'),\n",
       "  Text(24, 0, '41'),\n",
       "  Text(25, 0, '42'),\n",
       "  Text(26, 0, '43'),\n",
       "  Text(27, 0, '44'),\n",
       "  Text(28, 0, '45'),\n",
       "  Text(29, 0, '46'),\n",
       "  Text(30, 0, '47'),\n",
       "  Text(31, 0, '48'),\n",
       "  Text(32, 0, '49'),\n",
       "  Text(33, 0, '50'),\n",
       "  Text(34, 0, '51'),\n",
       "  Text(35, 0, '52'),\n",
       "  Text(36, 0, '53'),\n",
       "  Text(37, 0, '54'),\n",
       "  Text(38, 0, '55'),\n",
       "  Text(39, 0, '56'),\n",
       "  Text(40, 0, '57'),\n",
       "  Text(41, 0, '58'),\n",
       "  Text(42, 0, '59'),\n",
       "  Text(43, 0, '60'),\n",
       "  Text(44, 0, '61'),\n",
       "  Text(45, 0, '62'),\n",
       "  Text(46, 0, '63'),\n",
       "  Text(47, 0, '64'),\n",
       "  Text(48, 0, '65'),\n",
       "  Text(49, 0, '66'),\n",
       "  Text(50, 0, '67'),\n",
       "  Text(51, 0, '68'),\n",
       "  Text(52, 0, '69'),\n",
       "  Text(53, 0, '70'),\n",
       "  Text(54, 0, '71'),\n",
       "  Text(55, 0, '72'),\n",
       "  Text(56, 0, '73'),\n",
       "  Text(57, 0, '74'),\n",
       "  Text(58, 0, '75'),\n",
       "  Text(59, 0, '76'),\n",
       "  Text(60, 0, '77'),\n",
       "  Text(61, 0, '78'),\n",
       "  Text(62, 0, '79'),\n",
       "  Text(63, 0, '80'),\n",
       "  Text(64, 0, '81'),\n",
       "  Text(65, 0, '82'),\n",
       "  Text(66, 0, '83'),\n",
       "  Text(67, 0, '84'),\n",
       "  Text(68, 0, '85'),\n",
       "  Text(69, 0, '86'),\n",
       "  Text(70, 0, '88'),\n",
       "  Text(71, 0, '90')])"
      ]
     },
     "execution_count": 47,
     "metadata": {},
     "output_type": "execute_result"
    },
    {
     "data": {
      "image/png": "[encoded data removed]",
      "text/plain": [
       "<Figure size 432x288 with 1 Axes>"
      ]
     },
     "metadata": {
      "needs_background": "light"
     },
     "output_type": "display_data"
    }
   ],
   "source": [
    "sb.countplot(x = 'age', data = salary_train_needed, palette = 'hls'); plt.xticks(rotation = 90)"
   ]
  },
  {
   "cell_type": "code",
   "execution_count": 48,
   "id": "2f4968ac",
   "metadata": {},
   "outputs": [
    {
     "data": {
      "text/plain": [
       "(array([0, 1, 2, 3, 4, 5, 6]),\n",
       " [Text(0, 0, ' State-gov'),\n",
       "  Text(1, 0, ' Self-emp-not-inc'),\n",
       "  Text(2, 0, ' Private'),\n",
       "  Text(3, 0, ' Federal-gov'),\n",
       "  Text(4, 0, ' Local-gov'),\n",
       "  Text(5, 0, ' Self-emp-inc'),\n",
       "  Text(6, 0, ' Without-pay')])"
      ]
     },
     "execution_count": 48,
     "metadata": {},
     "output_type": "execute_result"
    },
    {
     "data": {
      "image/png": "[encoded data removed]",
      "text/plain": [
       "<Figure size 432x288 with 1 Axes>"
      ]
     },
     "metadata": {
      "needs_background": "light"
     },
     "output_type": "display_data"
    }
   ],
   "source": [
    "sb.countplot(x = 'workclass', data = salary_train_needed, palette = 'hls'); plt.xticks(rotation = 45)"
   ]
  },
  {
   "cell_type": "code",
   "execution_count": 49,
   "id": "cfd8c97f",
   "metadata": {},
   "outputs": [
    {
     "data": {
      "text/plain": [
       "(array([ 0,  1,  2,  3,  4,  5,  6,  7,  8,  9, 10, 11, 12, 13, 14, 15]),\n",
       " [Text(0, 0, ' Bachelors'),\n",
       "  Text(1, 0, ' HS-grad'),\n",
       "  Text(2, 0, ' 11th'),\n",
       "  Text(3, 0, ' Masters'),\n",
       "  Text(4, 0, ' 9th'),\n",
       "  Text(5, 0, ' Some-college'),\n",
       "  Text(6, 0, ' Assoc-acdm'),\n",
       "  Text(7, 0, ' 7th-8th'),\n",
       "  Text(8, 0, ' Doctorate'),\n",
       "  Text(9, 0, ' Assoc-voc'),\n",
       "  Text(10, 0, ' Prof-school'),\n",
       "  Text(11, 0, ' 5th-6th'),\n",
       "  Text(12, 0, ' 10th'),\n",
       "  Text(13, 0, ' Preschool'),\n",
       "  Text(14, 0, ' 12th'),\n",
       "  Text(15, 0, ' 1st-4th')])"
      ]
     },
     "execution_count": 49,
     "metadata": {},
     "output_type": "execute_result"
    },
    {
     "data": {
      "image/png": "[encoded data removed]",
      "text/plain": [
       "<Figure size 432x288 with 1 Axes>"
      ]
     },
     "metadata": {
      "needs_background": "light"
     },
     "output_type": "display_data"
    }
   ],
   "source": [
    "sb.countplot(x = 'education', data = salary_train_needed, palette = 'hls'); plt.xticks(rotation = 45)"
   ]
  },
  {
   "cell_type": "code",
   "execution_count": 50,
   "id": "aea5ce12",
   "metadata": {},
   "outputs": [
    {
     "data": {
      "text/plain": [
       "(array([ 0,  1,  2,  3,  4,  5,  6,  7,  8,  9, 10, 11, 12, 13]),\n",
       " [Text(0, 0, ' Adm-clerical'),\n",
       "  Text(1, 0, ' Exec-managerial'),\n",
       "  Text(2, 0, ' Handlers-cleaners'),\n",
       "  Text(3, 0, ' Prof-specialty'),\n",
       "  Text(4, 0, ' Other-service'),\n",
       "  Text(5, 0, ' Sales'),\n",
       "  Text(6, 0, ' Transport-moving'),\n",
       "  Text(7, 0, ' Farming-fishing'),\n",
       "  Text(8, 0, ' Machine-op-inspct'),\n",
       "  Text(9, 0, ' Tech-support'),\n",
       "  Text(10, 0, ' Craft-repair'),\n",
       "  Text(11, 0, ' Protective-serv'),\n",
       "  Text(12, 0, ' Armed-Forces'),\n",
       "  Text(13, 0, ' Priv-house-serv')])"
      ]
     },
     "execution_count": 50,
     "metadata": {},
     "output_type": "execute_result"
    },
    {
     "data": {
      "image/png": "[encoded data removed]",
      "text/plain": [
       "<Figure size 432x288 with 1 Axes>"
      ]
     },
     "metadata": {
      "needs_background": "light"
     },
     "output_type": "display_data"
    }
   ],
   "source": [
    "sb.countplot(x = 'occupation', data = salary_train_needed, palette = 'hls'); plt.xticks(rotation = 25)"
   ]
  },
  {
   "cell_type": "code",
   "execution_count": 51,
   "id": "a7757671",
   "metadata": {},
   "outputs": [
    {
     "data": {
      "text/plain": [
       "(array([  0,   1,   2,   3,   4,   5,   6,   7,   8,   9,  10,  11,  12,\n",
       "         13,  14,  15,  16,  17,  18,  19,  20,  21,  22,  23,  24,  25,\n",
       "         26,  27,  28,  29,  30,  31,  32,  33,  34,  35,  36,  37,  38,\n",
       "         39,  40,  41,  42,  43,  44,  45,  46,  47,  48,  49,  50,  51,\n",
       "         52,  53,  54,  55,  56,  57,  58,  59,  60,  61,  62,  63,  64,\n",
       "         65,  66,  67,  68,  69,  70,  71,  72,  73,  74,  75,  76,  77,\n",
       "         78,  79,  80,  81,  82,  83,  84,  85,  86,  87,  88,  89,  90,\n",
       "         91,  92,  93,  94,  95,  96,  97,  98,  99, 100, 101, 102, 103,\n",
       "        104, 105, 106, 107, 108, 109, 110, 111, 112, 113, 114, 115, 116,\n",
       "        117]),\n",
       " [Text(0, 0, '0'),\n",
       "  Text(1, 0, '114'),\n",
       "  Text(2, 0, '401'),\n",
       "  Text(3, 0, '594'),\n",
       "  Text(4, 0, '914'),\n",
       "  Text(5, 0, '991'),\n",
       "  Text(6, 0, '1055'),\n",
       "  Text(7, 0, '1086'),\n",
       "  Text(8, 0, '1151'),\n",
       "  Text(9, 0, '1173'),\n",
       "  Text(10, 0, '1409'),\n",
       "  Text(11, 0, '1424'),\n",
       "  Text(12, 0, '1455'),\n",
       "  Text(13, 0, '1471'),\n",
       "  Text(14, 0, '1506'),\n",
       "  Text(15, 0, '1639'),\n",
       "  Text(16, 0, '1797'),\n",
       "  Text(17, 0, '1831'),\n",
       "  Text(18, 0, '1848'),\n",
       "  Text(19, 0, '2009'),\n",
       "  Text(20, 0, '2036'),\n",
       "  Text(21, 0, '2050'),\n",
       "  Text(22, 0, '2062'),\n",
       "  Text(23, 0, '2105'),\n",
       "  Text(24, 0, '2174'),\n",
       "  Text(25, 0, '2176'),\n",
       "  Text(26, 0, '2202'),\n",
       "  Text(27, 0, '2228'),\n",
       "  Text(28, 0, '2290'),\n",
       "  Text(29, 0, '2329'),\n",
       "  Text(30, 0, '2346'),\n",
       "  Text(31, 0, '2354'),\n",
       "  Text(32, 0, '2387'),\n",
       "  Text(33, 0, '2407'),\n",
       "  Text(34, 0, '2414'),\n",
       "  Text(35, 0, '2463'),\n",
       "  Text(36, 0, '2538'),\n",
       "  Text(37, 0, '2580'),\n",
       "  Text(38, 0, '2597'),\n",
       "  Text(39, 0, '2635'),\n",
       "  Text(40, 0, '2653'),\n",
       "  Text(41, 0, '2829'),\n",
       "  Text(42, 0, '2885'),\n",
       "  Text(43, 0, '2907'),\n",
       "  Text(44, 0, '2936'),\n",
       "  Text(45, 0, '2961'),\n",
       "  Text(46, 0, '2964'),\n",
       "  Text(47, 0, '2977'),\n",
       "  Text(48, 0, '2993'),\n",
       "  Text(49, 0, '3103'),\n",
       "  Text(50, 0, '3137'),\n",
       "  Text(51, 0, '3273'),\n",
       "  Text(52, 0, '3325'),\n",
       "  Text(53, 0, '3411'),\n",
       "  Text(54, 0, '3418'),\n",
       "  Text(55, 0, '3432'),\n",
       "  Text(56, 0, '3456'),\n",
       "  Text(57, 0, '3464'),\n",
       "  Text(58, 0, '3471'),\n",
       "  Text(59, 0, '3674'),\n",
       "  Text(60, 0, '3781'),\n",
       "  Text(61, 0, '3818'),\n",
       "  Text(62, 0, '3887'),\n",
       "  Text(63, 0, '3908'),\n",
       "  Text(64, 0, '3942'),\n",
       "  Text(65, 0, '4064'),\n",
       "  Text(66, 0, '4101'),\n",
       "  Text(67, 0, '4386'),\n",
       "  Text(68, 0, '4416'),\n",
       "  Text(69, 0, '4508'),\n",
       "  Text(70, 0, '4650'),\n",
       "  Text(71, 0, '4687'),\n",
       "  Text(72, 0, '4787'),\n",
       "  Text(73, 0, '4865'),\n",
       "  Text(74, 0, '4931'),\n",
       "  Text(75, 0, '4934'),\n",
       "  Text(76, 0, '5013'),\n",
       "  Text(77, 0, '5060'),\n",
       "  Text(78, 0, '5178'),\n",
       "  Text(79, 0, '5455'),\n",
       "  Text(80, 0, '5556'),\n",
       "  Text(81, 0, '5721'),\n",
       "  Text(82, 0, '6097'),\n",
       "  Text(83, 0, '6360'),\n",
       "  Text(84, 0, '6418'),\n",
       "  Text(85, 0, '6497'),\n",
       "  Text(86, 0, '6514'),\n",
       "  Text(87, 0, '6723'),\n",
       "  Text(88, 0, '6767'),\n",
       "  Text(89, 0, '6849'),\n",
       "  Text(90, 0, '7298'),\n",
       "  Text(91, 0, '7430'),\n",
       "  Text(92, 0, '7443'),\n",
       "  Text(93, 0, '7688'),\n",
       "  Text(94, 0, '7896'),\n",
       "  Text(95, 0, '7978'),\n",
       "  Text(96, 0, '8614'),\n",
       "  Text(97, 0, '9386'),\n",
       "  Text(98, 0, '9562'),\n",
       "  Text(99, 0, '10520'),\n",
       "  Text(100, 0, '10566'),\n",
       "  Text(101, 0, '10605'),\n",
       "  Text(102, 0, '11678'),\n",
       "  Text(103, 0, '13550'),\n",
       "  Text(104, 0, '14084'),\n",
       "  Text(105, 0, '14344'),\n",
       "  Text(106, 0, '15020'),\n",
       "  Text(107, 0, '15024'),\n",
       "  Text(108, 0, '15831'),\n",
       "  Text(109, 0, '18481'),\n",
       "  Text(110, 0, '20051'),\n",
       "  Text(111, 0, '22040'),\n",
       "  Text(112, 0, '25124'),\n",
       "  Text(113, 0, '25236'),\n",
       "  Text(114, 0, '27828'),\n",
       "  Text(115, 0, '34095'),\n",
       "  Text(116, 0, '41310'),\n",
       "  Text(117, 0, '99999')])"
      ]
     },
     "execution_count": 51,
     "metadata": {},
     "output_type": "execute_result"
    },
    {
     "data": {
      "image/png": "[encoded data removed]",
      "text/plain": [
       "<Figure size 432x288 with 1 Axes>"
      ]
     },
     "metadata": {
      "needs_background": "light"
     },
     "output_type": "display_data"
    }
   ],
   "source": [
    "sb.countplot(x = 'capitalgain', data = salary_train_needed, palette = 'hls'); plt.xticks(rotation = 90)"
   ]
  },
  {
   "cell_type": "code",
   "execution_count": 52,
   "id": "b078bfb0",
   "metadata": {},
   "outputs": [
    {
     "data": {
      "text/plain": [
       "(array([ 0,  1,  2,  3,  4,  5,  6,  7,  8,  9, 10, 11, 12, 13, 14, 15, 16,\n",
       "        17, 18, 19, 20, 21, 22, 23, 24, 25, 26, 27, 28, 29, 30, 31, 32, 33,\n",
       "        34, 35, 36, 37, 38, 39, 40, 41, 42, 43, 44, 45, 46, 47, 48, 49, 50,\n",
       "        51, 52, 53, 54, 55, 56, 57, 58, 59, 60, 61, 62, 63, 64, 65, 66, 67,\n",
       "        68, 69, 70, 71, 72, 73, 74, 75, 76, 77, 78, 79, 80, 81, 82, 83, 84,\n",
       "        85, 86, 87, 88, 89]),\n",
       " [Text(0, 0, '0'),\n",
       "  Text(1, 0, '155'),\n",
       "  Text(2, 0, '213'),\n",
       "  Text(3, 0, '323'),\n",
       "  Text(4, 0, '419'),\n",
       "  Text(5, 0, '625'),\n",
       "  Text(6, 0, '653'),\n",
       "  Text(7, 0, '810'),\n",
       "  Text(8, 0, '880'),\n",
       "  Text(9, 0, '974'),\n",
       "  Text(10, 0, '1092'),\n",
       "  Text(11, 0, '1138'),\n",
       "  Text(12, 0, '1258'),\n",
       "  Text(13, 0, '1340'),\n",
       "  Text(14, 0, '1380'),\n",
       "  Text(15, 0, '1408'),\n",
       "  Text(16, 0, '1411'),\n",
       "  Text(17, 0, '1485'),\n",
       "  Text(18, 0, '1504'),\n",
       "  Text(19, 0, '1539'),\n",
       "  Text(20, 0, '1564'),\n",
       "  Text(21, 0, '1573'),\n",
       "  Text(22, 0, '1579'),\n",
       "  Text(23, 0, '1590'),\n",
       "  Text(24, 0, '1594'),\n",
       "  Text(25, 0, '1602'),\n",
       "  Text(26, 0, '1617'),\n",
       "  Text(27, 0, '1628'),\n",
       "  Text(28, 0, '1648'),\n",
       "  Text(29, 0, '1651'),\n",
       "  Text(30, 0, '1668'),\n",
       "  Text(31, 0, '1669'),\n",
       "  Text(32, 0, '1672'),\n",
       "  Text(33, 0, '1719'),\n",
       "  Text(34, 0, '1721'),\n",
       "  Text(35, 0, '1726'),\n",
       "  Text(36, 0, '1735'),\n",
       "  Text(37, 0, '1740'),\n",
       "  Text(38, 0, '1741'),\n",
       "  Text(39, 0, '1755'),\n",
       "  Text(40, 0, '1762'),\n",
       "  Text(41, 0, '1816'),\n",
       "  Text(42, 0, '1825'),\n",
       "  Text(43, 0, '1844'),\n",
       "  Text(44, 0, '1848'),\n",
       "  Text(45, 0, '1876'),\n",
       "  Text(46, 0, '1887'),\n",
       "  Text(47, 0, '1902'),\n",
       "  Text(48, 0, '1944'),\n",
       "  Text(49, 0, '1974'),\n",
       "  Text(50, 0, '1977'),\n",
       "  Text(51, 0, '1980'),\n",
       "  Text(52, 0, '2001'),\n",
       "  Text(53, 0, '2002'),\n",
       "  Text(54, 0, '2042'),\n",
       "  Text(55, 0, '2051'),\n",
       "  Text(56, 0, '2057'),\n",
       "  Text(57, 0, '2080'),\n",
       "  Text(58, 0, '2129'),\n",
       "  Text(59, 0, '2149'),\n",
       "  Text(60, 0, '2174'),\n",
       "  Text(61, 0, '2179'),\n",
       "  Text(62, 0, '2201'),\n",
       "  Text(63, 0, '2205'),\n",
       "  Text(64, 0, '2206'),\n",
       "  Text(65, 0, '2231'),\n",
       "  Text(66, 0, '2238'),\n",
       "  Text(67, 0, '2246'),\n",
       "  Text(68, 0, '2258'),\n",
       "  Text(69, 0, '2267'),\n",
       "  Text(70, 0, '2282'),\n",
       "  Text(71, 0, '2339'),\n",
       "  Text(72, 0, '2352'),\n",
       "  Text(73, 0, '2377'),\n",
       "  Text(74, 0, '2392'),\n",
       "  Text(75, 0, '2415'),\n",
       "  Text(76, 0, '2444'),\n",
       "  Text(77, 0, '2457'),\n",
       "  Text(78, 0, '2467'),\n",
       "  Text(79, 0, '2472'),\n",
       "  Text(80, 0, '2547'),\n",
       "  Text(81, 0, '2559'),\n",
       "  Text(82, 0, '2603'),\n",
       "  Text(83, 0, '2754'),\n",
       "  Text(84, 0, '2824'),\n",
       "  Text(85, 0, '3004'),\n",
       "  Text(86, 0, '3683'),\n",
       "  Text(87, 0, '3770'),\n",
       "  Text(88, 0, '3900'),\n",
       "  Text(89, 0, '4356')])"
      ]
     },
     "execution_count": 52,
     "metadata": {},
     "output_type": "execute_result"
    },
    {
     "data": {
      "image/png": "[encoded data removed]",
      "text/plain": [
       "<Figure size 432x288 with 1 Axes>"
      ]
     },
     "metadata": {
      "needs_background": "light"
     },
     "output_type": "display_data"
    }
   ],
   "source": [
    "sb.countplot(x = 'capitalloss', data = salary_train_needed, palette = 'hls'); plt.xticks(rotation = 90)"
   ]
  },
  {
   "cell_type": "code",
   "execution_count": 53,
   "id": "2ddcce58",
   "metadata": {},
   "outputs": [
    {
     "data": {
      "text/plain": [
       "(array([ 0,  1,  2,  3,  4,  5,  6,  7,  8,  9, 10, 11, 12, 13, 14, 15, 16,\n",
       "        17, 18, 19, 20, 21, 22, 23, 24, 25, 26, 27, 28, 29, 30, 31, 32, 33,\n",
       "        34, 35, 36, 37, 38, 39, 40, 41, 42, 43, 44, 45, 46, 47, 48, 49, 50,\n",
       "        51, 52, 53, 54, 55, 56, 57, 58, 59, 60, 61, 62, 63, 64, 65, 66, 67,\n",
       "        68, 69, 70, 71, 72, 73, 74, 75, 76, 77, 78, 79, 80, 81, 82, 83, 84,\n",
       "        85, 86, 87, 88, 89, 90, 91, 92, 93]),\n",
       " [Text(0, 0, '1'),\n",
       "  Text(1, 0, '2'),\n",
       "  Text(2, 0, '3'),\n",
       "  Text(3, 0, '4'),\n",
       "  Text(4, 0, '5'),\n",
       "  Text(5, 0, '6'),\n",
       "  Text(6, 0, '7'),\n",
       "  Text(7, 0, '8'),\n",
       "  Text(8, 0, '9'),\n",
       "  Text(9, 0, '10'),\n",
       "  Text(10, 0, '11'),\n",
       "  Text(11, 0, '12'),\n",
       "  Text(12, 0, '13'),\n",
       "  Text(13, 0, '14'),\n",
       "  Text(14, 0, '15'),\n",
       "  Text(15, 0, '16'),\n",
       "  Text(16, 0, '17'),\n",
       "  Text(17, 0, '18'),\n",
       "  Text(18, 0, '19'),\n",
       "  Text(19, 0, '20'),\n",
       "  Text(20, 0, '21'),\n",
       "  Text(21, 0, '22'),\n",
       "  Text(22, 0, '23'),\n",
       "  Text(23, 0, '24'),\n",
       "  Text(24, 0, '25'),\n",
       "  Text(25, 0, '26'),\n",
       "  Text(26, 0, '27'),\n",
       "  Text(27, 0, '28'),\n",
       "  Text(28, 0, '29'),\n",
       "  Text(29, 0, '30'),\n",
       "  Text(30, 0, '31'),\n",
       "  Text(31, 0, '32'),\n",
       "  Text(32, 0, '33'),\n",
       "  Text(33, 0, '34'),\n",
       "  Text(34, 0, '35'),\n",
       "  Text(35, 0, '36'),\n",
       "  Text(36, 0, '37'),\n",
       "  Text(37, 0, '38'),\n",
       "  Text(38, 0, '39'),\n",
       "  Text(39, 0, '40'),\n",
       "  Text(40, 0, '41'),\n",
       "  Text(41, 0, '42'),\n",
       "  Text(42, 0, '43'),\n",
       "  Text(43, 0, '44'),\n",
       "  Text(44, 0, '45'),\n",
       "  Text(45, 0, '46'),\n",
       "  Text(46, 0, '47'),\n",
       "  Text(47, 0, '48'),\n",
       "  Text(48, 0, '49'),\n",
       "  Text(49, 0, '50'),\n",
       "  Text(50, 0, '51'),\n",
       "  Text(51, 0, '52'),\n",
       "  Text(52, 0, '53'),\n",
       "  Text(53, 0, '54'),\n",
       "  Text(54, 0, '55'),\n",
       "  Text(55, 0, '56'),\n",
       "  Text(56, 0, '57'),\n",
       "  Text(57, 0, '58'),\n",
       "  Text(58, 0, '59'),\n",
       "  Text(59, 0, '60'),\n",
       "  Text(60, 0, '61'),\n",
       "  Text(61, 0, '62'),\n",
       "  Text(62, 0, '63'),\n",
       "  Text(63, 0, '64'),\n",
       "  Text(64, 0, '65'),\n",
       "  Text(65, 0, '66'),\n",
       "  Text(66, 0, '67'),\n",
       "  Text(67, 0, '68'),\n",
       "  Text(68, 0, '70'),\n",
       "  Text(69, 0, '72'),\n",
       "  Text(70, 0, '73'),\n",
       "  Text(71, 0, '74'),\n",
       "  Text(72, 0, '75'),\n",
       "  Text(73, 0, '76'),\n",
       "  Text(74, 0, '77'),\n",
       "  Text(75, 0, '78'),\n",
       "  Text(76, 0, '80'),\n",
       "  Text(77, 0, '81'),\n",
       "  Text(78, 0, '82'),\n",
       "  Text(79, 0, '84'),\n",
       "  Text(80, 0, '85'),\n",
       "  Text(81, 0, '86'),\n",
       "  Text(82, 0, '87'),\n",
       "  Text(83, 0, '88'),\n",
       "  Text(84, 0, '89'),\n",
       "  Text(85, 0, '90'),\n",
       "  Text(86, 0, '91'),\n",
       "  Text(87, 0, '92'),\n",
       "  Text(88, 0, '94'),\n",
       "  Text(89, 0, '95'),\n",
       "  Text(90, 0, '96'),\n",
       "  Text(91, 0, '97'),\n",
       "  Text(92, 0, '98'),\n",
       "  Text(93, 0, '99')])"
      ]
     },
     "execution_count": 53,
     "metadata": {},
     "output_type": "execute_result"
    },
    {
     "data": {
      "image/png": "[encoded data removed]",
      "text/plain": [
       "<Figure size 432x288 with 1 Axes>"
      ]
     },
     "metadata": {
      "needs_background": "light"
     },
     "output_type": "display_data"
    }
   ],
   "source": [
    "sb.countplot(x = 'hoursperweek', data = salary_train_needed, palette = 'hls'); plt.xticks(rotation = 90)"
   ]
  },
  {
   "cell_type": "code",
   "execution_count": 54,
   "id": "ce8775f0",
   "metadata": {},
   "outputs": [],
   "source": [
    "# Now we have plot the bar graphs for the few of the columns to see their performance and behaviour against desired output of our model"
   ]
  },
  {
   "cell_type": "code",
   "execution_count": 55,
   "id": "a053150c",
   "metadata": {},
   "outputs": [
    {
     "data": {
      "text/plain": [
       "<AxesSubplot:xlabel='age'>"
      ]
     },
     "execution_count": 55,
     "metadata": {},
     "output_type": "execute_result"
    },
    {
     "data": {
      "image/png": "[encoded data removed]",
      "text/plain": [
       "<Figure size 432x288 with 1 Axes>"
      ]
     },
     "metadata": {
      "needs_background": "light"
     },
     "output_type": "display_data"
    }
   ],
   "source": [
    "pd.crosstab(salary_train_needed.age,salary_train_needed.Salary).plot(kind = \"bar\")"
   ]
  },
  {
   "cell_type": "code",
   "execution_count": 56,
   "id": "6c24d5f0",
   "metadata": {},
   "outputs": [
    {
     "data": {
      "text/plain": [
       "<AxesSubplot:xlabel='workclass'>"
      ]
     },
     "execution_count": 56,
     "metadata": {},
     "output_type": "execute_result"
    },
    {
     "data": {
      "image/png": "[encoded data removed]",
      "text/plain": [
       "<Figure size 432x288 with 1 Axes>"
      ]
     },
     "metadata": {
      "needs_background": "light"
     },
     "output_type": "display_data"
    }
   ],
   "source": [
    "pd.crosstab(salary_train_needed.workclass,salary_train_needed.Salary).plot(kind = \"bar\")"
   ]
  },
  {
   "cell_type": "code",
   "execution_count": 57,
   "id": "550674ef",
   "metadata": {},
   "outputs": [
    {
     "data": {
      "text/plain": [
       "<AxesSubplot:xlabel='education'>"
      ]
     },
     "execution_count": 57,
     "metadata": {},
     "output_type": "execute_result"
    },
    {
     "data": {
      "image/png": "[encoded data removed]",
      "text/plain": [
       "<Figure size 432x288 with 1 Axes>"
      ]
     },
     "metadata": {
      "needs_background": "light"
     },
     "output_type": "display_data"
    }
   ],
   "source": [
    "pd.crosstab(salary_train_needed.education,salary_train_needed.Salary).plot(kind = \"bar\")"
   ]
  },
  {
   "cell_type": "code",
   "execution_count": 58,
   "id": "81d425e3",
   "metadata": {},
   "outputs": [
    {
     "data": {
      "text/plain": [
       "<AxesSubplot:xlabel='occupation'>"
      ]
     },
     "execution_count": 58,
     "metadata": {},
     "output_type": "execute_result"
    },
    {
     "data": {
      "image/png": "[encoded data removed]",
      "text/plain": [
       "<Figure size 432x288 with 1 Axes>"
      ]
     },
     "metadata": {
      "needs_background": "light"
     },
     "output_type": "display_data"
    }
   ],
   "source": [
    "pd.crosstab(salary_train_needed.occupation,salary_train_needed.Salary).plot(kind = \"bar\")"
   ]
  },
  {
   "cell_type": "code",
   "execution_count": 59,
   "id": "17a47dd1",
   "metadata": {},
   "outputs": [
    {
     "data": {
      "text/plain": [
       "<AxesSubplot:xlabel='hoursperweek'>"
      ]
     },
     "execution_count": 59,
     "metadata": {},
     "output_type": "execute_result"
    },
    {
     "data": {
      "image/png": "[encoded data removed]",
      "text/plain": [
       "<Figure size 432x288 with 1 Axes>"
      ]
     },
     "metadata": {
      "needs_background": "light"
     },
     "output_type": "display_data"
    }
   ],
   "source": [
    "pd.crosstab(salary_train_needed.hoursperweek,salary_train_needed.Salary).plot(kind = \"bar\")"
   ]
  },
  {
   "cell_type": "code",
   "execution_count": 60,
   "id": "aeb4ca6c",
   "metadata": {},
   "outputs": [
    {
     "ename": "NameError",
     "evalue": "name 'salary_test' is not defined",
     "output_type": "error",
     "traceback": [
      "\u001b[1;31m---------------------------------------------------------------------------\u001b[0m",
      "\u001b[1;31mNameError\u001b[0m                                 Traceback (most recent call last)",
      "\u001b[1;32m<ipython-input-60-503bd5fa06a6>\u001b[0m in \u001b[0;36m<module>\u001b[1;34m\u001b[0m\n\u001b[1;32m----> 1\u001b[1;33m \u001b[0msalary_test_needed\u001b[0m \u001b[1;33m=\u001b[0m \u001b[0msalary_test\u001b[0m\u001b[1;33m.\u001b[0m\u001b[0mdrop\u001b[0m\u001b[1;33m(\u001b[0m\u001b[1;33m[\u001b[0m\u001b[1;34m\"educationno\"\u001b[0m\u001b[1;33m,\u001b[0m\u001b[1;34m\"maritalstatus\"\u001b[0m\u001b[1;33m,\u001b[0m\u001b[1;34m\"relationship\"\u001b[0m\u001b[1;33m,\u001b[0m\u001b[1;34m\"race\"\u001b[0m\u001b[1;33m,\u001b[0m\u001b[1;34m\"sex\"\u001b[0m\u001b[1;33m,\u001b[0m\u001b[1;34m\"native\"\u001b[0m\u001b[1;33m]\u001b[0m\u001b[1;33m,\u001b[0m\u001b[0maxis\u001b[0m \u001b[1;33m=\u001b[0m \u001b[1;36m1\u001b[0m\u001b[1;33m)\u001b[0m\u001b[1;33m\u001b[0m\u001b[1;33m\u001b[0m\u001b[0m\n\u001b[0m",
      "\u001b[1;31mNameError\u001b[0m: name 'salary_test' is not defined"
     ]
    }
   ],
   "source": [
    "salary_test_needed = salary_test.drop([\"educationno\",\"maritalstatus\",\"relationship\",\"race\",\"sex\",\"native\"],axis = 1)"
   ]
  },
  {
   "cell_type": "code",
   "execution_count": null,
   "id": "cd36282b",
   "metadata": {},
   "outputs": [],
   "source": [
    "## now we going to model building"
   ]
  },
  {
   "cell_type": "code",
   "execution_count": null,
   "id": "663e60d9",
   "metadata": {},
   "outputs": [],
   "source": [
    "output_data_train = salary_train_needed.iloc[:,7]\"3D Objects\""
   ]
  },
  {
   "cell_type": "code",
   "execution_count": null,
   "id": "9c27b436",
   "metadata": {},
   "outputs": [],
   "source": [
    "output_data_test = salary_test_needed.iloc[:,7]"
   ]
  },
  {
   "cell_type": "code",
   "execution_count": null,
   "id": "fda0371e",
   "metadata": {},
   "outputs": [],
   "source": [
    "input_data_train = salary_train_needed.iloc[:,:7]"
   ]
  },
  {
   "cell_type": "code",
   "execution_count": null,
   "id": "41bc0e51",
   "metadata": {},
   "outputs": [],
   "source": [
    "input_data_test = salary_test_needed.iloc[:,:7]"
   ]
  },
  {
   "cell_type": "code",
   "execution_count": null,
   "id": "cc3893e4",
   "metadata": {},
   "outputs": [],
   "source": [
    "input_data_train.columns"
   ]
  },
  {
   "cell_type": "code",
   "execution_count": null,
   "id": "8ba72325",
   "metadata": {},
   "outputs": [],
   "source": [
    "model_data_train = pd.get_dummies(data = input_data_train, columns = ['workclass', 'education', 'occupation'])"
   ]
  },
  {
   "cell_type": "code",
   "execution_count": null,
   "id": "cee45b81",
   "metadata": {},
   "outputs": [],
   "source": [
    "model_data_test = pd.get_dummies(data = input_data_test, columns = ['workclass', 'education', 'occupation'])"
   ]
  },
  {
   "cell_type": "code",
   "execution_count": null,
   "id": "5b2cf412",
   "metadata": {},
   "outputs": [],
   "source": [
    "model_data_train"
   ]
  },
  {
   "cell_type": "code",
   "execution_count": 62,
   "id": "addf111e",
   "metadata": {},
   "outputs": [],
   "source": [
    "from sklearn.svm import SVC"
   ]
  },
  {
   "cell_type": "code",
   "execution_count": null,
   "id": "454044cb",
   "metadata": {},
   "outputs": [],
   "source": [
    "# 'linear', 'poly', 'rbf', 'sigmoid', 'precomputed'"
   ]
  },
  {
   "cell_type": "code",
   "execution_count": null,
   "id": "60b39f4f",
   "metadata": {},
   "outputs": [],
   "source": [
    "# Kernel 'Linear'\n",
    "model_linear = SVC(kernel = 'linear')"
   ]
  },
  {
   "cell_type": "code",
   "execution_count": null,
   "id": "1b365765",
   "metadata": {},
   "outputs": [],
   "source": [
    "model_linear.fit(model_data_train,output_data_train)"
   ]
  },
  {
   "cell_type": "code",
   "execution_count": null,
   "id": "f02ded1b",
   "metadata": {},
   "outputs": [],
   "source": [
    "predict_linear_test = model_linear.predict(model_data_test)"
   ]
  },
  {
   "cell_type": "code",
   "execution_count": null,
   "id": "15f9e756",
   "metadata": {},
   "outputs": [],
   "source": [
    "accuracy = np.mean(predict_linear_test = output_data_test)### Accuracy"
   ]
  },
  {
   "cell_type": "code",
   "execution_count": null,
   "id": "d21c1691",
   "metadata": {},
   "outputs": [],
   "source": [
    "# Kernel 'poly'\n",
    "model_poly = SVC(kernel = 'poly')"
   ]
  },
  {
   "cell_type": "code",
   "execution_count": null,
   "id": "da9f94ea",
   "metadata": {},
   "outputs": [],
   "source": [
    "model_poly.fit(model_data_train,output_data_train)"
   ]
  },
  {
   "cell_type": "code",
   "execution_count": null,
   "id": "6bab2c97",
   "metadata": {},
   "outputs": [],
   "source": [
    "predict_poly_test = model_poly.predict(model_data_test)"
   ]
  },
  {
   "cell_type": "code",
   "execution_count": null,
   "id": "b002f89b",
   "metadata": {},
   "outputs": [],
   "source": [
    "accuracy = np.mean(predict_poly_test = output_data_test)# Accuracy"
   ]
  },
  {
   "cell_type": "code",
   "execution_count": null,
   "id": "012bb825",
   "metadata": {},
   "outputs": [],
   "source": [
    " ##Kernel 'rbf'\n",
    "model_rbf = SVC(kernel = 'rbf')"
   ]
  },
  {
   "cell_type": "code",
   "execution_count": null,
   "id": "f19d6c96",
   "metadata": {},
   "outputs": [],
   "source": [
    "model_rbf.fit(model_data_train,output_data_train)"
   ]
  },
  {
   "cell_type": "code",
   "execution_count": null,
   "id": "774f5658",
   "metadata": {},
   "outputs": [],
   "source": [
    "predict_rbf_test = model_rbf.predict(model_data_test)"
   ]
  },
  {
   "cell_type": "code",
   "execution_count": null,
   "id": "242e6d9e",
   "metadata": {},
   "outputs": [],
   "source": [
    "accuracy = np.mean(predict_rbf_test == output_data_test)"
   ]
  },
  {
   "cell_type": "code",
   "execution_count": null,
   "id": "45eb2fe6",
   "metadata": {},
   "outputs": [],
   "source": [
    "accuracy   # 83.51925%"
   ]
  },
  {
   "cell_type": "code",
   "execution_count": null,
   "id": "9b2743d6",
   "metadata": {},
   "outputs": [],
   "source": [
    "# Kernel 'sigmoid'\n",
    "model_sigmoid = SVC(kernel = 'sigmoid')"
   ]
  },
  {
   "cell_type": "code",
   "execution_count": null,
   "id": "a64b0c54",
   "metadata": {},
   "outputs": [],
   "source": [
    "model_sigmoid.fit(model_data_train,output_data_train)"
   ]
  },
  {
   "cell_type": "code",
   "execution_count": null,
   "id": "f312282b",
   "metadata": {},
   "outputs": [],
   "source": [
    "predict_sigmoid_test = model_sigmoid.predict(model_data_test)"
   ]
  },
  {
   "cell_type": "code",
   "execution_count": null,
   "id": "e00b37bd",
   "metadata": {},
   "outputs": [],
   "source": [
    "accuracy = np.mean(predict_sigmoid_test == output_data_test)"
   ]
  },
  {
   "cell_type": "code",
   "execution_count": null,
   "id": "700f1aa2",
   "metadata": {},
   "outputs": [],
   "source": [
    "accuracy   # 75.43160%"
   ]
  },
  {
   "cell_type": "code",
   "execution_count": null,
   "id": "7cdfddca",
   "metadata": {},
   "outputs": [],
   "source": [
    "# Of these results we have got the best accuracy of 83.51% from the rbf kernel."
   ]
  }
 ],
 "metadata": {
  "kernelspec": {
   "display_name": "Python 3",
   "language": "python",
   "name": "python3"
  },
  "language_info": {
   "codemirror_mode": {
    "name": "ipython",
    "version": 3
   },
   "file_extension": ".py",
   "mimetype": "text/x-python",
   "name": "python",
   "nbconvert_exporter": "python",
   "pygments_lexer": "ipython3",
   "version": "3.8.8"
  }
 },
 "nbformat": 4,
 "nbformat_minor": 5
}
